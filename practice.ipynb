{
 "cells": [
  {
   "cell_type": "code",
   "execution_count": 11,
   "metadata": {},
   "outputs": [
    {
     "data": {
      "text/plain": [
       "<matplotlib.image.AxesImage at 0x12944fcd0>"
      ]
     },
     "execution_count": 11,
     "metadata": {},
     "output_type": "execute_result"
    },
    {
     "data": {
      "image/png": "[encoded data removed]",
      "text/plain": [
       "<Figure size 640x480 with 1 Axes>"
      ]
     },
     "metadata": {},
     "output_type": "display_data"
    }
   ],
   "source": [
    "import cv2\n",
    "import numpy as np\n",
    "import matplotlib.pyplot as plt\n",
    "\n",
    "image = np.zeros((60,60,3),np.uint8)\n",
    "image[:,:,:]=120,80,90\n",
    "plt.imshow(image,cmap='gray')"
   ]
  },
  {
   "cell_type": "code",
   "execution_count": 12,
   "metadata": {},
   "outputs": [
    {
     "data": {
      "text/plain": [
       "array([[[120,  80,  90],\n",
       "        [120,  80,  90],\n",
       "        [120,  80,  90],\n",
       "        ...,\n",
       "        [120,  80,  90],\n",
       "        [120,  80,  90],\n",
       "        [120,  80,  90]],\n",
       "\n",
       "       [[120,  80,  90],\n",
       "        [120,  80,  90],\n",
       "        [120,  80,  90],\n",
       "        ...,\n",
       "        [120,  80,  90],\n",
       "        [120,  80,  90],\n",
       "        [120,  80,  90]],\n",
       "\n",
       "       [[120,  80,  90],\n",
       "        [120,  80,  90],\n",
       "        [120,  80,  90],\n",
       "        ...,\n",
       "        [120,  80,  90],\n",
       "        [120,  80,  90],\n",
       "        [120,  80,  90]],\n",
       "\n",
       "       ...,\n",
       "\n",
       "       [[120,  80,  90],\n",
       "        [120,  80,  90],\n",
       "        [120,  80,  90],\n",
       "        ...,\n",
       "        [120,  80,  90],\n",
       "        [120,  80,  90],\n",
       "        [120,  80,  90]],\n",
       "\n",
       "       [[120,  80,  90],\n",
       "        [120,  80,  90],\n",
       "        [120,  80,  90],\n",
       "        ...,\n",
       "        [120,  80,  90],\n",
       "        [120,  80,  90],\n",
       "        [120,  80,  90]],\n",
       "\n",
       "       [[120,  80,  90],\n",
       "        [120,  80,  90],\n",
       "        [120,  80,  90],\n",
       "        ...,\n",
       "        [120,  80,  90],\n",
       "        [120,  80,  90],\n",
       "        [120,  80,  90]]], dtype=uint8)"
      ]
     },
     "execution_count": 12,
     "metadata": {},
     "output_type": "execute_result"
    }
   ],
   "source": [
    "image"
   ]
  },
  {
   "cell_type": "code",
   "execution_count": 13,
   "metadata": {},
   "outputs": [
    {
     "data": {
      "text/plain": [
       "<matplotlib.image.AxesImage at 0x1296be010>"
      ]
     },
     "execution_count": 13,
     "metadata": {},
     "output_type": "execute_result"
    },
    {
     "data": {
      "image/png": "[encoded data removed]",
      "text/plain": [
       "<Figure size 640x480 with 1 Axes>"
      ]
     },
     "metadata": {},
     "output_type": "display_data"
    }
   ],
   "source": [
    "image_BGR = cv2.cvtColor(image,cv2.COLOR_RGB2BGR)\n"
   ]
  },
  {
   "cell_type": "code",
   "execution_count": 14,
   "metadata": {},
   "outputs": [
    {
     "data": {
      "text/plain": [
       "array([[[ 90,  80, 120],\n",
       "        [ 90,  80, 120],\n",
       "        [ 90,  80, 120],\n",
       "        ...,\n",
       "        [ 90,  80, 120],\n",
       "        [ 90,  80, 120],\n",
       "        [ 90,  80, 120]],\n",
       "\n",
       "       [[ 90,  80, 120],\n",
       "        [ 90,  80, 120],\n",
       "        [ 90,  80, 120],\n",
       "        ...,\n",
       "        [ 90,  80, 120],\n",
       "        [ 90,  80, 120],\n",
       "        [ 90,  80, 120]],\n",
       "\n",
       "       [[ 90,  80, 120],\n",
       "        [ 90,  80, 120],\n",
       "        [ 90,  80, 120],\n",
       "        ...,\n",
       "        [ 90,  80, 120],\n",
       "        [ 90,  80, 120],\n",
       "        [ 90,  80, 120]],\n",
       "\n",
       "       ...,\n",
       "\n",
       "       [[ 90,  80, 120],\n",
       "        [ 90,  80, 120],\n",
       "        [ 90,  80, 120],\n",
       "        ...,\n",
       "        [ 90,  80, 120],\n",
       "        [ 90,  80, 120],\n",
       "        [ 90,  80, 120]],\n",
       "\n",
       "       [[ 90,  80, 120],\n",
       "        [ 90,  80, 120],\n",
       "        [ 90,  80, 120],\n",
       "        ...,\n",
       "        [ 90,  80, 120],\n",
       "        [ 90,  80, 120],\n",
       "        [ 90,  80, 120]],\n",
       "\n",
       "       [[ 90,  80, 120],\n",
       "        [ 90,  80, 120],\n",
       "        [ 90,  80, 120],\n",
       "        ...,\n",
       "        [ 90,  80, 120],\n",
       "        [ 90,  80, 120],\n",
       "        [ 90,  80, 120]]], dtype=uint8)"
      ]
     },
     "execution_count": 14,
     "metadata": {},
     "output_type": "execute_result"
    }
   ],
   "source": [
    "image_BGR"
   ]
  },
  {
   "cell_type": "code",
   "execution_count": 26,
   "metadata": {},
   "outputs": [
    {
     "name": "stdout",
     "output_type": "stream",
     "text": [
      "Cool image - 84.25314814814814\n"
     ]
    }
   ],
   "source": [
    "image = cv2.imread('Temp/beach-blue.jpg')\n",
    "image_RGB = cv2.cvtColor(image,cv2.COLOR_BGR2RGB)\n",
    "image_HSB = cv2.cvtColor(image,cv2.COLOR_BGR2HSV)\n",
    "\n",
    "hue = image_HSB[:,:,0]\n",
    "\n",
    "# warm_mask = (0>=hue)&(hue=<60)\n",
    "# cool_mask = (90>=hue)&(hue=<180)\n",
    "warm_mask = (hue>=0) & (hue<=60)\n",
    "cool_mask = (hue>=90) & (hue<=180)\n",
    "\n",
    "warm_percentage = (np.sum(warm_mask)/hue.size)*100\n",
    "cool_percentage = (np.sum(cool_mask)/hue.size)*100\n",
    "\n",
    "if warm_percentage>cool_percentage:\n",
    "    print(f'Warm image - {warm_percentage}')\n",
    "else:\n",
    "    print(f'Cool image - {cool_percentage}')"
   ]
  },
  {
   "cell_type": "code",
   "execution_count": 27,
   "metadata": {},
   "outputs": [
    {
     "name": "stdout",
     "output_type": "stream",
     "text": [
      "Bright\n"
     ]
    }
   ],
   "source": [
    "image = cv2.imread('Temp/beach-blue.jpg')\n",
    "image_HSV = cv2.cvtColor(image,cv2.COLOR_BGR2HSV)\n",
    "\n",
    "saturation = image_HSV[:,:,1]\n",
    "value = image_HSV[:,:,2]\n",
    "\n",
    "\n",
    "bright_mask = (saturation>80)&(value>=100)\n",
    "\n",
    "bright_percentage = np.sum(bright_mask)/saturation.size*100\n",
    "\n",
    "if bright_percentage>50:\n",
    "    print('Bright')\n",
    "else:\n",
    "    print('Dull')"
   ]
  }
 ],
 "metadata": {
  "kernelspec": {
   "display_name": "Python 3",
   "language": "python",
   "name": "python3"
  },
  "language_info": {
   "codemirror_mode": {
    "name": "ipython",
    "version": 3
   },
   "file_extension": ".py",
   "mimetype": "text/x-python",
   "name": "python",
   "nbconvert_exporter": "python",
   "pygments_lexer": "ipython3",
   "version": "3.11.11"
  }
 },
 "nbformat": 4,
 "nbformat_minor": 2
}
