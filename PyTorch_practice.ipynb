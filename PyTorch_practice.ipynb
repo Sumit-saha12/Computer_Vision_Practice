{
 "cells": [
  {
   "cell_type": "code",
   "execution_count": 37,
   "metadata": {},
   "outputs": [],
   "source": [
    "import torch\n",
    "import matplotlib.pyplot as plt"
   ]
  },
  {
   "cell_type": "code",
   "execution_count": 38,
   "metadata": {},
   "outputs": [
    {
     "name": "stdout",
     "output_type": "stream",
     "text": [
      "tensor([[1, 2, 3, 4],\n",
      "        [2, 3, 4, 5]])\n",
      "torch.Size([2, 4])\n",
      "2\n"
     ]
    }
   ],
   "source": [
    "array = torch.tensor([[1,2,3,4],[2,3,4,5]])\n",
    "print(array)\n",
    "print(array.shape)\n",
    "print(array.ndim)"
   ]
  },
  {
   "cell_type": "code",
   "execution_count": 39,
   "metadata": {},
   "outputs": [
    {
     "name": "stdout",
     "output_type": "stream",
     "text": [
      "tensor([[  0.,   0.,   0.,   0.],\n",
      "        [120., 120., 120., 120.],\n",
      "        [  0.,   0., 255.,   0.],\n",
      "        [  0.,   0.,   0.,   0.]])\n"
     ]
    },
    {
     "data": {
      "text/plain": [
       "<matplotlib.image.AxesImage at 0x1452398d0>"
      ]
     },
     "execution_count": 39,
     "metadata": {},
     "output_type": "execute_result"
    },
    {
     "data": {
      "image/png": "[encoded data removed]",
      "text/plain": [
       "<Figure size 640x480 with 1 Axes>"
      ]
     },
     "metadata": {},
     "output_type": "display_data"
    }
   ],
   "source": [
    "array = torch.zeros(4,4)\n",
    "array[2,2]=255\n",
    "array[1,:]=120\n",
    "print(array)\n",
    "plt.imshow(array,cmap='gray')"
   ]
  },
  {
   "cell_type": "code",
   "execution_count": 40,
   "metadata": {},
   "outputs": [
    {
     "name": "stdout",
     "output_type": "stream",
     "text": [
      "Sequential(\n",
      "  (0): Linear(in_features=30, out_features=64, bias=True)\n",
      "  (1): ReLU()\n",
      "  (2): Linear(in_features=64, out_features=32, bias=True)\n",
      "  (3): ReLU()\n",
      "  (4): Linear(in_features=32, out_features=5, bias=True)\n",
      ")\n"
     ]
    }
   ],
   "source": [
    "import torch.nn as nn\n",
    "\n",
    "model = nn.Sequential(\n",
    "    nn.Linear(30,64),\n",
    "    nn.ReLU(),\n",
    "    nn.Linear(64,32),\n",
    "    nn.ReLU(),\n",
    "    nn.Linear(32,5)\n",
    ")\n",
    "\n",
    "print(model)"
   ]
  },
  {
   "cell_type": "code",
   "execution_count": 41,
   "metadata": {},
   "outputs": [],
   "source": [
    "import tensorflow as tf\n",
    "import keras\n",
    "model = tf.keras.Sequential(\n",
    "    \n",
    ")"
   ]
  },
  {
   "cell_type": "code",
   "execution_count": 42,
   "metadata": {},
   "outputs": [
    {
     "name": "stdout",
     "output_type": "stream",
     "text": [
      "tf.Tensor(\n",
      "[[0.11996822 0.17967671 0.14854985 0.20592743 0.3458778 ]\n",
      " [0.21979435 0.14270625 0.10151278 0.11512557 0.42086104]\n",
      " [0.13441361 0.09909039 0.1397445  0.12749322 0.4992583 ]\n",
      " [0.07873977 0.05000602 0.16179608 0.14552455 0.56393355]\n",
      " [0.10930783 0.09465639 0.14521773 0.12714036 0.5236777 ]\n",
      " [0.03046107 0.01016865 0.10622767 0.13441496 0.71872765]\n",
      " [0.12978227 0.14259602 0.12579675 0.20032102 0.4015039 ]\n",
      " [0.09475647 0.03258194 0.09318264 0.18297158 0.5965074 ]\n",
      " [0.10328862 0.08820403 0.1313552  0.1230524  0.55409974]\n",
      " [0.10856701 0.16603649 0.11726189 0.16798662 0.440148  ]], shape=(10, 5), dtype=float32)\n"
     ]
    },
    {
     "name": "stderr",
     "output_type": "stream",
     "text": [
      "/Users/sumitsaha/Desktop/DataScience_Udemy/ComputerVision/Practice/cv_img/lib/python3.11/site-packages/keras/src/layers/core/dense.py:87: UserWarning: Do not pass an `input_shape`/`input_dim` argument to a layer. When using Sequential models, prefer using an `Input(shape)` object as the first layer in the model instead.\n",
      "  super().__init__(activity_regularizer=activity_regularizer, **kwargs)\n"
     ]
    },
    {
     "data": {
      "text/html": [
       "<pre style=\"white-space:pre;overflow-x:auto;line-height:normal;font-family:Menlo,'DejaVu Sans Mono',consolas,'Courier New',monospace\"><span style=\"font-weight: bold\">Model: \"sequential_1\"</span>\n",
       "</pre>\n"
      ],
      "text/plain": [
       "\u001b[1mModel: \"sequential_1\"\u001b[0m\n"
      ]
     },
     "metadata": {},
     "output_type": "display_data"
    },
    {
     "data": {
      "text/html": [
       "<pre style=\"white-space:pre;overflow-x:auto;line-height:normal;font-family:Menlo,'DejaVu Sans Mono',consolas,'Courier New',monospace\">┏━━━━━━━━━━━━━━━━━━━━━━━━━━━━━━━━━┳━━━━━━━━━━━━━━━━━━━━━━━━┳━━━━━━━━━━━━━━━┓\n",
       "┃<span style=\"font-weight: bold\"> Layer (type)                    </span>┃<span style=\"font-weight: bold\"> Output Shape           </span>┃<span style=\"font-weight: bold\">       Param # </span>┃\n",
       "┡━━━━━━━━━━━━━━━━━━━━━━━━━━━━━━━━━╇━━━━━━━━━━━━━━━━━━━━━━━━╇━━━━━━━━━━━━━━━┩\n",
       "│ dense (<span style=\"color: #0087ff; text-decoration-color: #0087ff\">Dense</span>)                   │ (<span style=\"color: #00d7ff; text-decoration-color: #00d7ff\">None</span>, <span style=\"color: #00af00; text-decoration-color: #00af00\">64</span>)             │         <span style=\"color: #00af00; text-decoration-color: #00af00\">1,344</span> │\n",
       "├─────────────────────────────────┼────────────────────────┼───────────────┤\n",
       "│ dense_1 (<span style=\"color: #0087ff; text-decoration-color: #0087ff\">Dense</span>)                 │ (<span style=\"color: #00d7ff; text-decoration-color: #00d7ff\">None</span>, <span style=\"color: #00af00; text-decoration-color: #00af00\">32</span>)             │         <span style=\"color: #00af00; text-decoration-color: #00af00\">2,080</span> │\n",
       "├─────────────────────────────────┼────────────────────────┼───────────────┤\n",
       "│ dense_2 (<span style=\"color: #0087ff; text-decoration-color: #0087ff\">Dense</span>)                 │ (<span style=\"color: #00d7ff; text-decoration-color: #00d7ff\">None</span>, <span style=\"color: #00af00; text-decoration-color: #00af00\">5</span>)              │           <span style=\"color: #00af00; text-decoration-color: #00af00\">165</span> │\n",
       "└─────────────────────────────────┴────────────────────────┴───────────────┘\n",
       "</pre>\n"
      ],
      "text/plain": [
       "┏━━━━━━━━━━━━━━━━━━━━━━━━━━━━━━━━━┳━━━━━━━━━━━━━━━━━━━━━━━━┳━━━━━━━━━━━━━━━┓\n",
       "┃\u001b[1m \u001b[0m\u001b[1mLayer (type)                   \u001b[0m\u001b[1m \u001b[0m┃\u001b[1m \u001b[0m\u001b[1mOutput Shape          \u001b[0m\u001b[1m \u001b[0m┃\u001b[1m \u001b[0m\u001b[1m      Param #\u001b[0m\u001b[1m \u001b[0m┃\n",
       "┡━━━━━━━━━━━━━━━━━━━━━━━━━━━━━━━━━╇━━━━━━━━━━━━━━━━━━━━━━━━╇━━━━━━━━━━━━━━━┩\n",
       "│ dense (\u001b[38;5;33mDense\u001b[0m)                   │ (\u001b[38;5;45mNone\u001b[0m, \u001b[38;5;34m64\u001b[0m)             │         \u001b[38;5;34m1,344\u001b[0m │\n",
       "├─────────────────────────────────┼────────────────────────┼───────────────┤\n",
       "│ dense_1 (\u001b[38;5;33mDense\u001b[0m)                 │ (\u001b[38;5;45mNone\u001b[0m, \u001b[38;5;34m32\u001b[0m)             │         \u001b[38;5;34m2,080\u001b[0m │\n",
       "├─────────────────────────────────┼────────────────────────┼───────────────┤\n",
       "│ dense_2 (\u001b[38;5;33mDense\u001b[0m)                 │ (\u001b[38;5;45mNone\u001b[0m, \u001b[38;5;34m5\u001b[0m)              │           \u001b[38;5;34m165\u001b[0m │\n",
       "└─────────────────────────────────┴────────────────────────┴───────────────┘\n"
      ]
     },
     "metadata": {},
     "output_type": "display_data"
    },
    {
     "data": {
      "text/html": [
       "<pre style=\"white-space:pre;overflow-x:auto;line-height:normal;font-family:Menlo,'DejaVu Sans Mono',consolas,'Courier New',monospace\"><span style=\"font-weight: bold\"> Total params: </span><span style=\"color: #00af00; text-decoration-color: #00af00\">3,589</span> (14.02 KB)\n",
       "</pre>\n"
      ],
      "text/plain": [
       "\u001b[1m Total params: \u001b[0m\u001b[38;5;34m3,589\u001b[0m (14.02 KB)\n"
      ]
     },
     "metadata": {},
     "output_type": "display_data"
    },
    {
     "data": {
      "text/html": [
       "<pre style=\"white-space:pre;overflow-x:auto;line-height:normal;font-family:Menlo,'DejaVu Sans Mono',consolas,'Courier New',monospace\"><span style=\"font-weight: bold\"> Trainable params: </span><span style=\"color: #00af00; text-decoration-color: #00af00\">3,589</span> (14.02 KB)\n",
       "</pre>\n"
      ],
      "text/plain": [
       "\u001b[1m Trainable params: \u001b[0m\u001b[38;5;34m3,589\u001b[0m (14.02 KB)\n"
      ]
     },
     "metadata": {},
     "output_type": "display_data"
    },
    {
     "data": {
      "text/html": [
       "<pre style=\"white-space:pre;overflow-x:auto;line-height:normal;font-family:Menlo,'DejaVu Sans Mono',consolas,'Courier New',monospace\"><span style=\"font-weight: bold\"> Non-trainable params: </span><span style=\"color: #00af00; text-decoration-color: #00af00\">0</span> (0.00 B)\n",
       "</pre>\n"
      ],
      "text/plain": [
       "\u001b[1m Non-trainable params: \u001b[0m\u001b[38;5;34m0\u001b[0m (0.00 B)\n"
      ]
     },
     "metadata": {},
     "output_type": "display_data"
    },
    {
     "name": "stdout",
     "output_type": "stream",
     "text": [
      "None\n"
     ]
    }
   ],
   "source": [
    "import tensorflow as tf\n",
    "from tensorflow.keras.models import Sequential\n",
    "from tensorflow.keras.layers import Dense\n",
    "\n",
    "model = Sequential([\n",
    "    Dense(64,activation='relu',input_shape = (20,)),\n",
    "    Dense(32,activation='relu'),\n",
    "    Dense(5,activation = 'softmax')\n",
    "])\n",
    "\n",
    "input_data = torch.randn(10,20)\n",
    "\n",
    "output = model(input_data)\n",
    "print(output)\n",
    "print(model.summary())"
   ]
  },
  {
   "cell_type": "code",
   "execution_count": 97,
   "metadata": {},
   "outputs": [],
   "source": [
    "import torch\n",
    "import torch.nn as nn\n",
    "import torch.optim as optim"
   ]
  },
  {
   "cell_type": "code",
   "execution_count": 98,
   "metadata": {},
   "outputs": [],
   "source": [
    "x = torch.tensor([[1.0],[2.0],[3.0],[4.0],[5.0],[6.0]])\n",
    "y = torch.tensor([[1.0],[4.0],[9.0],[16.0],[25.0],[36.0]])"
   ]
  },
  {
   "cell_type": "code",
   "execution_count": 99,
   "metadata": {},
   "outputs": [
    {
     "name": "stdout",
     "output_type": "stream",
     "text": [
      "PredictModule(\n",
      "  (layer1): Linear(in_features=1, out_features=50, bias=True)\n",
      "  (layer2): Linear(in_features=50, out_features=92, bias=True)\n",
      "  (layer3): Linear(in_features=92, out_features=200, bias=True)\n",
      "  (layer4): Linear(in_features=200, out_features=40, bias=True)\n",
      "  (layer5): Linear(in_features=40, out_features=1, bias=True)\n",
      "  (relu): ReLU()\n",
      "  (dropout): Dropout(p=0.3, inplace=False)\n",
      ")\n"
     ]
    }
   ],
   "source": [
    "class PredictModule(nn.Module):\n",
    "    def __init__(self):\n",
    "        super(PredictModule,self).__init__()\n",
    "        self.layer1 = nn.Linear(1,50)\n",
    "        self.layer2 = nn.Linear(50,92)\n",
    "        self.layer3 = nn.Linear(92,200)\n",
    "        self.layer4 = nn.Linear(200,40)\n",
    "        self.layer5 = nn.Linear(40,1)\n",
    "        self.relu = nn.ReLU()\n",
    "        self.dropout = nn.Dropout(p=0.3)\n",
    "    def forward(self,x):\n",
    "        x1 = self.relu(self.layer1(x))\n",
    "        # x1 = self.dropout(x1)\n",
    "        x2 = self.relu(self.layer2(x1))\n",
    "        x3 = self.relu(self.layer3(x2))\n",
    "        x4 = self.relu(self.layer4(x3))\n",
    "        x5 = self.layer5(x4)\n",
    "        return x5\n",
    "model = PredictModule()\n",
    "print(model)\n"
   ]
  },
  {
   "cell_type": "code",
   "execution_count": 100,
   "metadata": {},
   "outputs": [],
   "source": [
    "criterion = nn.MSELoss()\n",
    "optimiser = optim.Adam(model.parameters(),lr=0.01)\n",
    "num_epoch = 100\n",
    "\n",
    "def train_model(x,y):\n",
    "    for epoch in range(num_epoch):\n",
    "        pred = model(x)\n",
    "        loss = criterion(pred,y)\n",
    "        optimiser.zero_grad()\n",
    "        loss.backward()\n",
    "        optimiser.step()\n",
    "        print(f'Epoch ---> {epoch} : Loss ---> {loss.item(): .4f}')"
   ]
  },
  {
   "cell_type": "code",
   "execution_count": 101,
   "metadata": {},
   "outputs": [
    {
     "name": "stdout",
     "output_type": "stream",
     "text": [
      "Epoch ---> 0 : Loss --->  382.7585\n",
      "Epoch ---> 1 : Loss --->  356.7609\n",
      "Epoch ---> 2 : Loss --->  293.8392\n",
      "Epoch ---> 3 : Loss --->  176.8290\n",
      "Epoch ---> 4 : Loss --->  47.1873\n",
      "Epoch ---> 5 : Loss --->  167.8373\n",
      "Epoch ---> 6 : Loss --->  96.5999\n",
      "Epoch ---> 7 : Loss --->  32.6937\n",
      "Epoch ---> 8 : Loss --->  46.8934\n",
      "Epoch ---> 9 : Loss --->  76.3903\n",
      "Epoch ---> 10 : Loss --->  90.1418\n",
      "Epoch ---> 11 : Loss --->  84.6426\n",
      "Epoch ---> 12 : Loss --->  64.6442\n",
      "Epoch ---> 13 : Loss --->  39.8229\n",
      "Epoch ---> 14 : Loss --->  25.7816\n",
      "Epoch ---> 15 : Loss --->  35.5489\n",
      "Epoch ---> 16 : Loss --->  54.5240\n",
      "Epoch ---> 17 : Loss --->  50.8530\n",
      "Epoch ---> 18 : Loss --->  31.2962\n",
      "Epoch ---> 19 : Loss --->  21.1463\n",
      "Epoch ---> 20 : Loss --->  24.9108\n",
      "Epoch ---> 21 : Loss --->  32.6442\n",
      "Epoch ---> 22 : Loss --->  36.0120\n",
      "Epoch ---> 23 : Loss --->  32.5171\n",
      "Epoch ---> 24 : Loss --->  24.3037\n",
      "Epoch ---> 25 : Loss --->  16.7126\n",
      "Epoch ---> 26 : Loss --->  15.2350\n",
      "Epoch ---> 27 : Loss --->  19.6647\n",
      "Epoch ---> 28 : Loss --->  21.9744\n",
      "Epoch ---> 29 : Loss --->  16.9211\n",
      "Epoch ---> 30 : Loss --->  10.5577\n",
      "Epoch ---> 31 : Loss --->  9.4213\n",
      "Epoch ---> 32 : Loss --->  11.6466\n",
      "Epoch ---> 33 : Loss --->  11.8580\n",
      "Epoch ---> 34 : Loss --->  8.7766\n",
      "Epoch ---> 35 : Loss --->  5.2715\n",
      "Epoch ---> 36 : Loss --->  5.9504\n",
      "Epoch ---> 37 : Loss --->  6.0970\n",
      "Epoch ---> 38 : Loss --->  3.8562\n",
      "Epoch ---> 39 : Loss --->  2.7082\n",
      "Epoch ---> 40 : Loss --->  3.2399\n",
      "Epoch ---> 41 : Loss --->  3.2608\n",
      "Epoch ---> 42 : Loss --->  2.0833\n",
      "Epoch ---> 43 : Loss --->  1.6816\n",
      "Epoch ---> 44 : Loss --->  2.0913\n",
      "Epoch ---> 45 : Loss --->  1.3387\n",
      "Epoch ---> 46 : Loss --->  0.9407\n",
      "Epoch ---> 47 : Loss --->  1.3018\n",
      "Epoch ---> 48 : Loss --->  0.9443\n",
      "Epoch ---> 49 : Loss --->  0.8100\n",
      "Epoch ---> 50 : Loss --->  0.8455\n",
      "Epoch ---> 51 : Loss --->  0.4925\n",
      "Epoch ---> 52 : Loss --->  0.5633\n",
      "Epoch ---> 53 : Loss --->  0.4683\n",
      "Epoch ---> 54 : Loss --->  0.3066\n",
      "Epoch ---> 55 : Loss --->  0.3895\n",
      "Epoch ---> 56 : Loss --->  0.2304\n",
      "Epoch ---> 57 : Loss --->  0.2111\n",
      "Epoch ---> 58 : Loss --->  0.2178\n",
      "Epoch ---> 59 : Loss --->  0.1183\n",
      "Epoch ---> 60 : Loss --->  0.1558\n",
      "Epoch ---> 61 : Loss --->  0.1175\n",
      "Epoch ---> 62 : Loss --->  0.0729\n",
      "Epoch ---> 63 : Loss --->  0.1048\n",
      "Epoch ---> 64 : Loss --->  0.0455\n",
      "Epoch ---> 65 : Loss --->  0.1072\n",
      "Epoch ---> 66 : Loss --->  0.0399\n",
      "Epoch ---> 67 : Loss --->  0.0872\n",
      "Epoch ---> 68 : Loss --->  0.0366\n",
      "Epoch ---> 69 : Loss --->  0.0608\n",
      "Epoch ---> 70 : Loss --->  0.0422\n",
      "Epoch ---> 71 : Loss --->  0.0243\n",
      "Epoch ---> 72 : Loss --->  0.0375\n",
      "Epoch ---> 73 : Loss --->  0.0114\n",
      "Epoch ---> 74 : Loss --->  0.0264\n",
      "Epoch ---> 75 : Loss --->  0.0151\n",
      "Epoch ---> 76 : Loss --->  0.0110\n",
      "Epoch ---> 77 : Loss --->  0.0173\n",
      "Epoch ---> 78 : Loss --->  0.0048\n",
      "Epoch ---> 79 : Loss --->  0.0161\n",
      "Epoch ---> 80 : Loss --->  0.0028\n",
      "Epoch ---> 81 : Loss --->  0.0084\n",
      "Epoch ---> 82 : Loss --->  0.0063\n",
      "Epoch ---> 83 : Loss --->  0.0049\n",
      "Epoch ---> 84 : Loss --->  0.0088\n",
      "Epoch ---> 85 : Loss --->  0.0025\n",
      "Epoch ---> 86 : Loss --->  0.0067\n",
      "Epoch ---> 87 : Loss --->  0.0025\n",
      "Epoch ---> 88 : Loss --->  0.0037\n",
      "Epoch ---> 89 : Loss --->  0.0039\n",
      "Epoch ---> 90 : Loss --->  0.0020\n",
      "Epoch ---> 91 : Loss --->  0.0046\n",
      "Epoch ---> 92 : Loss --->  0.0016\n",
      "Epoch ---> 93 : Loss --->  0.0037\n",
      "Epoch ---> 94 : Loss --->  0.0015\n",
      "Epoch ---> 95 : Loss --->  0.0018\n",
      "Epoch ---> 96 : Loss --->  0.0015\n",
      "Epoch ---> 97 : Loss --->  0.0007\n",
      "Epoch ---> 98 : Loss --->  0.0020\n",
      "Epoch ---> 99 : Loss --->  0.0008\n"
     ]
    }
   ],
   "source": [
    "train_model(x,y)"
   ]
  },
  {
   "cell_type": "code",
   "execution_count": 102,
   "metadata": {},
   "outputs": [
    {
     "name": "stdout",
     "output_type": "stream",
     "text": [
      "tensor([[ 1.0620],\n",
      "        [ 3.9845],\n",
      "        [ 8.9740],\n",
      "        [15.9685],\n",
      "        [24.9324],\n",
      "        [35.9549]], grad_fn=<AddmmBackward0>)\n"
     ]
    }
   ],
   "source": [
    "print(model(x))"
   ]
  }
 ],
 "metadata": {
  "kernelspec": {
   "display_name": "Python 3",
   "language": "python",
   "name": "python3"
  },
  "language_info": {
   "codemirror_mode": {
    "name": "ipython",
    "version": 3
   },
   "file_extension": ".py",
   "mimetype": "text/x-python",
   "name": "python",
   "nbconvert_exporter": "python",
   "pygments_lexer": "ipython3",
   "version": "3.11.11"
  }
 },
 "nbformat": 4,
 "nbformat_minor": 2
}
